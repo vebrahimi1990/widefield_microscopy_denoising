{
 "cells": [
  {
   "cell_type": "code",
   "execution_count": null,
   "metadata": {
    "cellView": "form",
    "colab": {
     "base_uri": "https://localhost:8080/"
    },
    "id": "Tv4sbUfUXbVa",
    "outputId": "22b0628c-936e-4643-ac9a-d8bbb031c17e"
   },
   "outputs": [],
   "source": [
    "import numpy as np\n",
    "import os\n",
    "import matplotlib.pyplot as plt\n",
    "import tensorflow as tf\n",
    "from keras.callbacks import ModelCheckpoint, EarlyStopping, ReduceLROnPlateau\n",
    "from keras.models import Input\n",
    "from tensorflow import keras\n",
    "from config import CFG\n",
    "from datagenerator import data_generator_3D\n",
    "from model import UNet, RCAN, UNet_RCAN\n",
    "from loss import loss\n",
    "from evaluation_parameters import nmse_psnr_ssim_3D\n",
    "from tifffile import imwrite"
   ]
  },
  {
   "cell_type": "code",
   "execution_count": null,
   "metadata": {},
   "outputs": [],
   "source": [
    "gpus = tf.config.list_physical_devices('GPU')\n",
    "if gpus:\n",
    "    try:\n",
    "        tf.config.set_logical_device_configuration(\n",
    "            gpus[0],\n",
    "            [tf.config.LogicalDeviceConfiguration(memory_limit=12000)])\n",
    "        logical_gpus = tf.config.list_logical_devices('GPU')\n",
    "        print(len(gpus), \"Physical GPUs,\", len(logical_gpus), \"Logical GPUs\")\n",
    "    except RuntimeError as e:\n",
    "        print(e)"
   ]
  },
  {
   "cell_type": "code",
   "execution_count": null,
   "metadata": {},
   "outputs": [],
   "source": [
    "data_config = CFG['data_test']\n",
    "model_config = CFG['model']\n",
    "x_test, y_test = data_generator_3D(data_config)"
   ]
  },
  {
   "cell_type": "code",
   "execution_count": null,
   "metadata": {
    "cellView": "form",
    "colab": {
     "base_uri": "https://localhost:8080/",
     "height": 708
    },
    "id": "Pl6pCBtNFOko",
    "outputId": "24ecab5f-9ec0-4bd7-8e1d-51ca3bbb8ed3"
   },
   "outputs": [],
   "source": [
    "mip_x_test=np.max(x_test,axis=3)\n",
    "mip_y_test=np.max(y_test,axis=3)\n",
    "\n",
    "ix = np.random.randint(0,len(x_test),4)\n",
    "fig = plt.figure(figsize=(15,7))\n",
    "\n",
    "for i in range(4):\n",
    "    fig.add_subplot(2,4, 2*i+1)\n",
    "    cmap=plt.get_cmap('magma')\n",
    "    plt.imshow(mip_x_test[ix[i],:,:,0].squeeze(),cmap)\n",
    "    plt.title('Low SNR',fontdict={'fontsize':18})\n",
    "    plt_axis = plt.axis('off')\n",
    "\n",
    "    fig.add_subplot(2,4, 2*i+2)\n",
    "    cmap=plt.get_cmap('magma')\n",
    "    plt.imshow(mip_y_test[ix[i],:,:,0].squeeze(),cmap)\n",
    "    plt.title('High SNR',fontdict={'fontsize':18})\n",
    "    plt_axis = plt.axis('off')"
   ]
  },
  {
   "cell_type": "code",
   "execution_count": null,
   "metadata": {
    "cellView": "form",
    "id": "jsmkGppEzXTd"
   },
   "outputs": [],
   "source": [
    "model_input = Input((data_config['patch_size'], data_config['patch_size'],\n",
    "                     data_config['fr_end'] - data_config['fr_start'], 1))\n",
    "model = eval(model_config['model_type'] + \"(model_input, model_config)\")\n",
    "model(np.zeros(\n",
    "    (1, data_config['patch_size'], data_config['patch_size'], data_config['fr_end'] - data_config['fr_start'], 1)))\n",
    "model.load_weights(model_config['save_dr'])\n",
    "\n",
    "\n",
    "prediction2 = np.zeros(x_test.shape)\n",
    "\n",
    "for i in range(len(x_test)):\n",
    "    prediction = model(x_test[i:i + 1], training=False)\n",
    "    prediction2[i] = prediction[model_config['model_type']]\n",
    "    prediction2[i] = prediction2[i] / prediction2[i].max()\n",
    "prediction2[prediction2 < 0] = 0\n",
    "\n",
    "mip_x_test=np.max(x_test,axis=3)\n",
    "mip_prediction2=np.max(prediction2,axis=3)\n",
    "mip_y_test=np.max(y_test,axis=3)"
   ]
  },
  {
   "cell_type": "code",
   "execution_count": null,
   "metadata": {},
   "outputs": [],
   "source": [
    "ix = np.random.randint(len(mip_prediction2))\n",
    "fig = plt.figure(figsize=(40,40))\n",
    "\n",
    "plt.subplot(1, 3, 1)\n",
    "plt.imshow(mip_x_test[ix, :, :, 0] , cmap='magma')\n",
    "plt.title('Low SNR Input',fontdict={'fontsize':20})\n",
    "plt_axis = plt.axis('off')\n",
    "\n",
    "plt.subplot(1, 3, 2)\n",
    "plt.imshow(mip_prediction2[ix, :, :, 0] , cmap='magma')\n",
    "plt.title('Prediction by RCAN',fontdict={'fontsize':20})\n",
    "plt_axis = plt.axis('off')\n",
    "\n",
    "plt.subplot(1, 3, 3)\n",
    "plt.imshow(mip_y_test[ix, :, :, 0] , cmap='magma')\n",
    "plt.title('Ground Truth',fontdict={'fontsize':20})\n",
    "plt_axis = plt.axis('off')"
   ]
  },
  {
   "cell_type": "code",
   "execution_count": null,
   "metadata": {},
   "outputs": [],
   "source": [
    "imageq_param = np.zeros((6,len(prediction2)))\n",
    "\n",
    "imageq_param[0::2,:] = nmse_psnr_ssim_3D(x_test,y_test)\n",
    "imageq_param[1::2,:] = nmse_psnr_ssim_3D(prediction2,y_test)\n",
    "\n",
    "plt.rcParams.update({'font.size': 30})\n",
    "fig, axes = plt.subplots(nrows=1, ncols=3, figsize=(30, 10))\n",
    "labels = ['noisy', 'prediction']\n",
    "\n",
    "bplot1 = axes[0].boxplot([imageq_param[0,:],imageq_param[1,:]],\n",
    "                         vert=True,  \n",
    "                         patch_artist=True,  \n",
    "                         labels=labels,showfliers=False)\n",
    "axes[0].set_ylim(0, 1.2*imageq_param[0:2].max())\n",
    "axes[0].set_title('NMSE',fontsize=30)\n",
    "\n",
    "bplot2 = axes[1].boxplot([imageq_param[2,:],imageq_param[3,:]],\n",
    "                         vert=True,  \n",
    "                         patch_artist=True,  \n",
    "                         labels=labels,showfliers=False) \n",
    "axes[1].set_ylim(0, 1.5*imageq_param[2:4].max())\n",
    "axes[1].set_title('PSNR',fontsize=30)\n",
    "\n",
    "bplot3 = axes[2].boxplot([imageq_param[4,:],imageq_param[5,:]],\n",
    "                         vert=True,  \n",
    "                         patch_artist=True,  \n",
    "                         labels=labels,showfliers=False)\n",
    "\n",
    "axes[2].set_ylim(0, 1)\n",
    "axes[2].set\n",
    "cc= axes[2].set_title('MS-SSIM',fontsize=30)\n",
    "\n",
    "\n",
    "\n",
    "np.savetxt(os.path.join(data_config['save_dr'], '', 'eval_param.csv'), np.transpose(imageq_param),\n",
    "            header=\"NMSE_noisy,NMSE_prediction,PSNR_noisy,PSNR_prediction,SSIM_noisy,SSIM_prediction\", delimiter=\",\")\n",
    "plt.savefig(os.path.join(data_config['save_dr'], '', 'eval_param.tif'))\n",
    "plt.show()\n",
    "plt.close()"
   ]
  },
  {
   "cell_type": "code",
   "execution_count": null,
   "metadata": {},
   "outputs": [],
   "source": [
    "pred2 = np.moveaxis(prediction2, 3, 1)\n",
    "noisy = np.moveaxis(x_test, 3, 1)\n",
    "gt = np.moveaxis(y_test, 3, 1)\n",
    "\n",
    "pred2 = (pred2 * (2 ** 16 - 1)).astype(np.uint16)\n",
    "noisy = (noisy * (2 ** 16 - 1)).astype(np.uint16)\n",
    "gt = (gt * (2 ** 16 - 1)).astype(np.uint16)\n",
    "\n",
    "\n",
    "imwrite(os.path.join(data_config['save_dr'], '', 'pred.tif'), pred2.squeeze(), imagej=True, metadata={'axes': 'TZYX'})\n",
    "imwrite(os.path.join(data_config['save_dr'], '', 'noisy.tif'), noisy.squeeze(), imagej=True, metadata={'axes': 'TZYX'})\n",
    "imwrite(os.path.join(data_config['save_dr'], '', 'gt.tif'), gt.squeeze(), imagej=True, metadata={'axes': 'TZYX'})"
   ]
  },
  {
   "cell_type": "code",
   "execution_count": null,
   "metadata": {},
   "outputs": [],
   "source": []
  }
 ],
 "metadata": {
  "accelerator": "GPU",
  "colab": {
   "collapsed_sections": [],
   "name": "Denoising_UNET_RCAN_3D.ipynb",
   "provenance": []
  },
  "gpuClass": "standard",
  "kernelspec": {
   "display_name": "Python 3 (ipykernel)",
   "language": "python",
   "name": "python3"
  },
  "language_info": {
   "codemirror_mode": {
    "name": "ipython",
    "version": 3
   },
   "file_extension": ".py",
   "mimetype": "text/x-python",
   "name": "python",
   "nbconvert_exporter": "python",
   "pygments_lexer": "ipython3",
   "version": "3.8.0"
  }
 },
 "nbformat": 4,
 "nbformat_minor": 1
}
